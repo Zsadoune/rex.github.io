{
  "cells": [
    {
      "cell_type": "markdown",
      "metadata": {
        "id": "view-in-github",
        "colab_type": "text"
      },
      "source": [
        "<a href=\"https://colab.research.google.com/github/Zsadoune/zsadoune.github.io/blob/master/model_training.ipynb\" target=\"_parent\"><img src=\"https://colab.research.google.com/assets/colab-badge.svg\" alt=\"Open In Colab\"/></a>"
      ]
    },
    {
      "cell_type": "markdown",
      "source": [
        "# Imports needed "
      ],
      "metadata": {
        "id": "L39-AdWGkhHH"
      },
      "id": "L39-AdWGkhHH"
    },
    {
      "cell_type": "code",
      "execution_count": 1,
      "id": "5305d325",
      "metadata": {
        "id": "5305d325"
      },
      "outputs": [],
      "source": [
        "# numerical library:\n",
        "import numpy as np\n",
        "\n",
        "# data manipulation library:\n",
        "import pandas as pd\n",
        "\n",
        "# standard packages used to handle files:\n",
        "import sys\n",
        "import os \n",
        "import glob\n",
        "import time\n",
        "\n",
        "# scikit-learn machine learning library:\n",
        "from sklearn import preprocessing\n",
        "\n",
        "# plotting:\n",
        "import matplotlib.pyplot as plt\n",
        "\n",
        "# MODELS \n",
        "from sklearn.neural_network import MLPRegressor\n",
        "from sklearn.linear_model import ElasticNet , Lasso , Ridge\n",
        "from sklearn.ensemble import RandomForestRegressor\n",
        "from sklearn import preprocessing\n",
        "\n",
        "from sklearn.model_selection import GridSearchCV\n",
        "from sklearn.pipeline import make_pipeline, Pipeline\n",
        "from sklearn.preprocessing import PolynomialFeatures\n",
        "from sklearn.preprocessing import StandardScaler\n",
        "from sklearn.model_selection import cross_val_score\n",
        "\n",
        "\n",
        "from sklearn.feature_selection import SelectKBest\n",
        "from sklearn.feature_selection import f_regression\n",
        "\n",
        "# to avoid unwanted warnings while fitting\n",
        "import warnings\n",
        "from sklearn.exceptions import ConvergenceWarning\n",
        "\n",
        "import math\n",
        "\n",
        "# tell matplotlib that we plot in a notebook:\n",
        "%matplotlib inline"
      ]
    },
    {
      "cell_type": "markdown",
      "source": [
        "#Importing the data \n",
        "The data is represented in training data ( used for training the model ) and testing data , that cannot be used in the training process . Also , the testing data doesn't contain the target value feature . "
      ],
      "metadata": {
        "id": "gUzl04hIhhOW"
      },
      "id": "gUzl04hIhhOW"
    },
    {
      "cell_type": "code",
      "source": [
        "train_data = pd.read_csv(\"train.csv\")\n",
        "test_data = pd.read_csv(\"test.csv\")"
      ],
      "metadata": {
        "id": "CUvWxKGJhgG4"
      },
      "id": "CUvWxKGJhgG4",
      "execution_count": 3,
      "outputs": []
    },
    {
      "cell_type": "markdown",
      "source": [
        "# DATA PREPARATION \n",
        "## Numerise data \n",
        "We can see from the data that a few features are not numerical . We absolutely need to numerise them , to make them work on our models . The numerisation is done by LabelEncoder : we attribute incremented values to each alphabetical value of the feature . For that we first need to know the different values that the feature takes in the initial dataset , for example Spring , Summer , Winter and Automn for the Season feature.\n",
        "The same work is done on the following features : Seasons , Holiday , Functioning Day . "
      ],
      "metadata": {
        "id": "g1hnlRJfAzqL"
      },
      "id": "g1hnlRJfAzqL"
    },
    {
      "cell_type": "code",
      "execution_count": 4,
      "id": "a79aabd5",
      "metadata": {
        "id": "a79aabd5"
      },
      "outputs": [],
      "source": [
        "# DATA NUMERISATION\n",
        "def norm_DSHF(train_sample , test_sample) :\n",
        "  enc = preprocessing.LabelEncoder()\n",
        "  enc.fit(['Winter', 'Spring', 'Summer', 'Autumn'])\n",
        "\n",
        "  enc2 = preprocessing.LabelEncoder()\n",
        "  enc2.fit(['No Holiday', 'Holiday'])\n",
        "\n",
        "  enc3 = preprocessing.LabelEncoder()\n",
        "  enc3.fit(['Yes', 'No'])\n",
        "\n",
        "  train_sample['Seasons'] = enc.transform(train_sample['Seasons'])\n",
        "  train_sample['Holiday'] = enc2.transform(train_sample['Holiday'])\n",
        "  train_sample['Functioning Day'] = enc3.transform(train_sample['Functioning Day'])\n",
        "\n",
        "  test_sample['Seasons'] = enc.transform(test_sample['Seasons'])\n",
        "  test_sample['Holiday'] = enc2.transform(test_sample['Holiday'])\n",
        "  test_sample['Functioning Day'] = enc3.transform(test_sample['Functioning Day'])\n",
        "\n",
        "norm_DSHF(train_data , test_data)\n"
      ]
    },
    {
      "cell_type": "markdown",
      "source": [
        "## Data transformation\n",
        "###Transform Date values , to fully numerical \n",
        "We can see from the data samples that Date values are String dates , in the form \"dd/mm/year\" . Our model again cannot process Strings , so we decide to change something . \n",
        "\n",
        "A first idea that comes to mind is to just take off the '/' from the Strings .  By doing that , the feature looses the order relation between the dates , example : 22012017 will look very close to 22012018 , even after scaling ( we'll talk more about this later )  , which is not correct . Instead , we can create a feature for each part of the date , and let the model treat them differently : date = day | month | year . This is called feature extraction . The downfall of performing data extraction is that we add new features , but it is worth it if it helps our model understand better the data . For this case we clearly need to do something about the date feature . \n",
        "\n",
        "All these data changes that we're making need to be done on the training and also the testing sample , it becomes part of our model . "
      ],
      "metadata": {
        "id": "u_rb9xmHA_61"
      },
      "id": "u_rb9xmHA_61"
    },
    {
      "cell_type": "code",
      "source": [
        "def date_separation(date_in_string) :\n",
        "  res = date_in_string.split('/') \n",
        "  return [int(res[0]) , int(res[1]) , int(res[2])]"
      ],
      "metadata": {
        "id": "mlbVJUdQ1PyH"
      },
      "id": "mlbVJUdQ1PyH",
      "execution_count": 5,
      "outputs": []
    },
    {
      "cell_type": "code",
      "execution_count": 6,
      "id": "cf4d97ae",
      "metadata": {
        "id": "cf4d97ae"
      },
      "outputs": [],
      "source": [
        "# EXTRACTING DAY , MONTH , YEAR FROM training data \n",
        "dates = train_data[\"Date\"].values\n",
        "dates = list(dates)\n",
        "resD = []\n",
        "resM = []\n",
        "resY  = []\n",
        "for elem in dates : \n",
        "  separated = date_separation(elem)\n",
        "  resD.append(separated[0])\n",
        "  resM.append(separated[1])\n",
        "  resY.append(separated[2])\n",
        "  \n",
        "# EXTRACTING DAY , MONTH , YEAR FROM training data   \n",
        "datesTes = test_data[\"Date\"].values\n",
        "datesTes = list(datesTes)\n",
        "resD_tst = []\n",
        "resM_tst = []\n",
        "resY_tst  = []\n",
        "for elem in datesTes : \n",
        "  separated = date_separation(elem)\n",
        "  resD_tst.append(separated[0])\n",
        "  resM_tst.append(separated[1])\n",
        "  resY_tst.append(separated[2])\n",
        "\n",
        "# UPDATING THE DATA WITH NEW COLUMNS ( features )\n",
        "train_data[\"Day\"] = resD ; train_data[\"Month\"] = resM ; train_data[\"Year\"] = resY ;\n",
        "test_data[\"Day\"] = resD_tst ; test_data[\"Month\"] = resM_tst ; test_data[\"Year\"] = resY_tst ;\n",
        "\n",
        "# DROPING THE INITIAL DATE FEATURE\n",
        "train_data = train_data.drop([\"Date\"] , axis = 1)\n",
        "test_data = test_data.drop([\"Date\"], axis = 1)\n"
      ]
    },
    {
      "cell_type": "markdown",
      "source": [
        "\n",
        "### Target values from training data \n",
        "Just like we said before , the training data already contains the target feature , which we want to extract in a seprate data sample . The testing sample doesn't have a any  target values to extract . \n",
        "The final samples used for training , tuning and testing the model are \n",
        "  - X_train : the training sample \n",
        "  - r_train : the target value corresponding to the training sample \n",
        "  - test_data : the testing sample , no target values \n",
        "\n",
        "### Log/Expo transformation \n",
        "By using linear models or even neural networks , we can get negative target values from a sample full of only positive ones , juste like in our case ( E-scouter Count > 0 ) . Some models have parameter specifying if we allow any range for our data , which forces it to give positive values for example . Unfortunately most of the linear models do not have this option , which means we'll need to adopt a strategy to to avoid negative values . \n",
        "\n",
        "The most common way of doing it is the logarithmic transformation : We change our target value to logarithmic values , and the prediction will have the same form naturally . To get the actual predicted value , we apply exponential function on the target feature . This way , all the values will be positive . Also , to avoid getting -inf values for when passing the logarithmic function on a value of 0 , we actually add 0.01 before calculating the log . It makes a slight change in the data but it is very small , and therefore insignificant . The value 0.01 is choosen randomly , as long as it keeps the predicted value after applying an exponential function very close to 0 . \n",
        "Note that for all the predictions we're getting next , the expo/ln transfo was used . "
      ],
      "metadata": {
        "id": "he_GY7EtBX3p"
      },
      "id": "he_GY7EtBX3p"
    },
    {
      "cell_type": "code",
      "execution_count": 7,
      "id": "690ae2f7",
      "metadata": {
        "id": "690ae2f7"
      },
      "outputs": [],
      "source": [
        "\n",
        "# Data Separation : parameters/target\n",
        "\n",
        "r_train_no_expo = train_data[\"E-scooter Count\"] \n",
        "\n",
        "X_train = train_data.drop([\"E-scooter Count\"] , axis=1)\n",
        "r_train = np.log(train_data[\"E-scooter Count\"] + 0.01)\n",
        "\n",
        "#X_train = X_train.drop([\"Day\"] , axis = 1)\n",
        "#test_data = test_data.drop([\"Day\"], axis = 1)\n",
        "\n"
      ]
    },
    {
      "cell_type": "markdown",
      "source": [
        "## Is the Day feature important ? "
      ],
      "metadata": {
        "id": "wsrW4tCtaekW"
      },
      "id": "wsrW4tCtaekW"
    },
    {
      "cell_type": "markdown",
      "source": [
        "### DATA VISUALISATION \n",
        "We can plot the correlation matrix to see patterns or strong relation between features , also detect the importance of each feature for the target value . "
      ],
      "metadata": {
        "id": "PlJOfWTYnAQl"
      },
      "id": "PlJOfWTYnAQl"
    },
    {
      "cell_type": "code",
      "source": [
        "\n",
        "\n",
        "def plot_correlation_matrix(df):\n",
        "    fig, ax = plt.subplots(nrows=1, ncols=1, figsize=(12,12))\n",
        "    plt.jet() # set the colormap to jet\n",
        "    cax = ax.matshow(df.corr(), vmin=-1, vmax=1)\n",
        "\n",
        "    ticks = list(range(len(df.columns)))\n",
        "    ax.set_xticks(ticks)\n",
        "    ax.set_yticks(ticks)\n",
        "\n",
        "    ax.set_xticklabels(df.columns, rotation=90, horizontalalignment='left')\n",
        "    ax.set_yticklabels(df.columns)\n",
        "    \n",
        "    fig.colorbar(cax, ticks=[-1.0,-0.75,-0.5,-0.25,0.0,0.25,0.5,0.75,1.0])\n",
        "\n",
        "    plt.tight_layout()\n",
        "    plt.show()\n"
      ],
      "metadata": {
        "id": "hu9LpoMWAskn"
      },
      "id": "hu9LpoMWAskn",
      "execution_count": 9,
      "outputs": []
    },
    {
      "cell_type": "code",
      "source": [
        "plot_correlation_matrix(train_data)"
      ],
      "metadata": {
        "id": "Lp4JDuDVbRjG",
        "colab": {
          "base_uri": "https://localhost:8080/",
          "height": 835
        },
        "outputId": "46345bdb-02be-437a-e20c-8ccddd33b2e3"
      },
      "execution_count": 10,
      "outputs": [
        {
          "output_type": "display_data",
          "data": {
            "text/plain": [
              "<Figure size 864x864 with 2 Axes>"
            ],
            "image/png": "[encoded data removed]"
          },
          "metadata": {
            "needs_background": "light"
          }
        }
      ],
      "id": "Lp4JDuDVbRjG"
    },
    {
      "cell_type": "markdown",
      "source": [
        "#Correlation Analysis\n",
        "First of all , we detect a strong correlation between \"Temperature\" and \"Dew point temperature\" , which indicates that they contain the same information . When we have two features with that strong of a correlation , we can take out one of them from the data sample . Another interesting point is that we do not have many strong correlations , which indicates that our model might not perform the best with a linear regression algorithm . It would then be intersting to test a non-linear model . \n",
        "\n",
        "We can see a weak correlation between \"Month\" and \"Season\" , isn't weird ? The season depends directly on the month , which means that these two features should show a strong correlation . Actually , the correlation is weak because the \"Season\" feature has been numerised following an encoding that attributes the values in the order they appear on the dataset , which looses the order of magnitude and therefore doesn't correlate to the months anymore . \n",
        "\n"
      ],
      "metadata": {
        "id": "g-NMTBQftVji"
      },
      "id": "g-NMTBQftVji"
    },
    {
      "cell_type": "markdown",
      "source": [
        "Histogram"
      ],
      "metadata": {
        "id": "NLG2wgl5fFcg"
      },
      "id": "NLG2wgl5fFcg"
    },
    {
      "cell_type": "code",
      "source": [
        "X_train.hist(figsize= (12,12)) # figsize: (width,height)"
      ],
      "metadata": {
        "id": "CimkpB_MfH8m",
        "colab": {
          "base_uri": "https://localhost:8080/",
          "height": 1000
        },
        "outputId": "1b649284-fe71-4313-c814-2259fc264e5a"
      },
      "id": "CimkpB_MfH8m",
      "execution_count": 8,
      "outputs": [
        {
          "output_type": "execute_result",
          "data": {
            "text/plain": [
              "array([[<matplotlib.axes._subplots.AxesSubplot object at 0x7fb8b06f7f70>,\n",
              "        <matplotlib.axes._subplots.AxesSubplot object at 0x7fb8b0663400>,\n",
              "        <matplotlib.axes._subplots.AxesSubplot object at 0x7fb8b0611820>,\n",
              "        <matplotlib.axes._subplots.AxesSubplot object at 0x7fb8b063dc10>],\n",
              "       [<matplotlib.axes._subplots.AxesSubplot object at 0x7fb8b05ea0a0>,\n",
              "        <matplotlib.axes._subplots.AxesSubplot object at 0x7fb8b05a4370>,\n",
              "        <matplotlib.axes._subplots.AxesSubplot object at 0x7fb8b05a4460>,\n",
              "        <matplotlib.axes._subplots.AxesSubplot object at 0x7fb8b05518e0>],\n",
              "       [<matplotlib.axes._subplots.AxesSubplot object at 0x7fb8b052d100>,\n",
              "        <matplotlib.axes._subplots.AxesSubplot object at 0x7fb8b04e5490>,\n",
              "        <matplotlib.axes._subplots.AxesSubplot object at 0x7fb8b04918b0>,\n",
              "        <matplotlib.axes._subplots.AxesSubplot object at 0x7fb8b04bfca0>],\n",
              "       [<matplotlib.axes._subplots.AxesSubplot object at 0x7fb8b046f130>,\n",
              "        <matplotlib.axes._subplots.AxesSubplot object at 0x7fb8b04285e0>,\n",
              "        <matplotlib.axes._subplots.AxesSubplot object at 0x7fb8b05458e0>,\n",
              "        <matplotlib.axes._subplots.AxesSubplot object at 0x7fb8b0482820>]],\n",
              "      dtype=object)"
            ]
          },
          "metadata": {},
          "execution_count": 8
        },
        {
          "output_type": "display_data",
          "data": {
            "text/plain": [
              "<Figure size 864x864 with 16 Axes>"
            ],
            "image/png": "[encoded data removed]"
          },
          "metadata": {
            "needs_background": "light"
          }
        }
      ]
    },
    {
      "cell_type": "markdown",
      "source": [
        "#Model choice \n",
        "To choose the models we test , we can rely on sklearn's cheat-sheet : https://scikit-learn.org/stable/tutorial/machine_learning_map/index.html\n",
        "\n",
        "We want to try a few models that match the most with our data , as we can see from the graph in the link that . First , our problem is a regression problem , and our training data is > 100k samples . Therefore, Lasso and ElasticNet and RidgeRegression are interresting models to try . \n",
        "\n",
        "To compare these three basic linear models , we want to try the default version first , to see which one performs better without tuning . To be able able to compare , we want to use exactly the same data samples , either from training or for testing . \n"
      ],
      "metadata": {
        "id": "y85tiz-tAq-f"
      },
      "id": "y85tiz-tAq-f"
    },
    {
      "cell_type": "code",
      "execution_count": null,
      "id": "a901a318",
      "metadata": {
        "id": "a901a318"
      },
      "outputs": [],
      "source": [
        "\n",
        "firstModel = ElasticNet()\n",
        "secondModel = Lasso()\n",
        "thirdModel = Ridge()\n",
        "\n"
      ]
    },
    {
      "cell_type": "markdown",
      "source": [
        "# Testing the models without tuning \n",
        "We can start by making a simple evaluation for the models , and for that we can use the cross validation method . We choose as a strategy to specify 10 folds . Generally , 5 is the most used , but since we are just testing for a first impression , we want to increse this parameter to have a more accurate average score at the end . "
      ],
      "metadata": {
        "id": "iaDtjjYydUIP"
      },
      "id": "iaDtjjYydUIP"
    },
    {
      "cell_type": "code",
      "source": [
        "\n",
        "# save the results of predictions in a list . \n",
        "\n",
        "for model in [firstModel , secondModel , thirdModel] :\n",
        "  scores4 = cross_val_score(model, X_train, r_train, cv=10)\n",
        "  print(scores4)\n",
        "  print(\"Average accuracy of  \", model , \"is \", scores4.mean(), \", stdev: \", scores4.std())\n"
      ],
      "metadata": {
        "id": "JzA2VSxTmbYB"
      },
      "id": "JzA2VSxTmbYB",
      "execution_count": null,
      "outputs": []
    },
    {
      "cell_type": "markdown",
      "source": [
        "We can see from the results that the linear models Lasso perform slightly better in a cross-validation evaluation than Ridge , and much better than ElasticNet . We choose then to go with Lasso for our model .   "
      ],
      "metadata": {
        "id": "XxFw0JKRIYEr"
      },
      "id": "XxFw0JKRIYEr"
    },
    {
      "cell_type": "code",
      "source": [
        "def tune_lasso(x_data,r_data):\n",
        "    pipe = Pipeline([\n",
        "        ('scale',StandardScaler()),\n",
        "        ('model',Lasso())\n",
        "    ])\n",
        "\n",
        "    # Set the parameters by cross-validation\n",
        "    tuned_parameters = [{\"model__fit_intercept\" : [True , False] , \"model__alpha\" : [0.1 , 1 , 2]}]\n",
        "\n",
        "    CV = GridSearchCV(pipe, tuned_parameters, cv=5)\n",
        "    CV.fit(x_data, r_data)\n",
        "    best_fit = CV.best_params_['model__fit_intercept']\n",
        "    best_alpha = CV.best_params_['model__alpha']\n",
        "    print(\"Optimal regularisation value: \",best_fit , best_alpha)\n",
        "    optimal_pipe = Pipeline([\n",
        "        ('scale',StandardScaler()),\n",
        "        ('model',Lasso(fit_intercept = best_fit , alpha = best_alpha ))\n",
        "    ])\n",
        "    \n",
        "    return optimal_pipe"
      ],
      "metadata": {
        "id": "5s9pYpUSRnrq"
      },
      "id": "5s9pYpUSRnrq",
      "execution_count": null,
      "outputs": []
    },
    {
      "cell_type": "markdown",
      "source": [
        "Additionally to these linear models , we want to try neural networks  (NN) . The nature of our data ( multiple features ) suggests that using multiple layers algorithms could give a good result . MLPRegressor is sklearn supervised model that can be used for either classification or regression , it learns a non-linear function to predict a target feature also called output .The sensitive point of MLPReg is that it relies a lot on the scaling used on the data , it would be interesting to try with different scaling methods too . Also , to achieve good results with NN , tuning the model is necessary . For more information about MLPRegression : https://scikit-learn.org/stable/modules/neural_networks_supervised.html ."
      ],
      "metadata": {
        "id": "EonqSe4ZHSpy"
      },
      "id": "EonqSe4ZHSpy"
    },
    {
      "cell_type": "code",
      "source": [
        "fourthModel = Lasso()"
      ],
      "metadata": {
        "id": "qpgQny-qdCLY"
      },
      "id": "qpgQny-qdCLY",
      "execution_count": null,
      "outputs": []
    },
    {
      "cell_type": "code",
      "source": [
        "secondModel.fit(X_train,r_train)\n",
        "r_test = secondModel.predict(test_data)"
      ],
      "metadata": {
        "id": "WnOmCXyfSlnO"
      },
      "id": "WnOmCXyfSlnO",
      "execution_count": null,
      "outputs": []
    },
    {
      "cell_type": "markdown",
      "source": [
        "# Tuning the model with hyper parameters "
      ],
      "metadata": {
        "id": "EooSjbM7CC1v"
      },
      "id": "EooSjbM7CC1v"
    },
    {
      "cell_type": "code",
      "source": [
        "new_db = X_train.loc[:,X_train.columns != \"Day\"]\n",
        "new_db = X_train.loc[: ,X_train.columns != \"Dew point temperature(C)\"]\n",
        "test_data = test_data.loc[:,test_data.columns != \"Day\"]\n",
        "test_data = test_data.loc[: ,test_data.columns != \"Dew point temperature(C)\"]\n",
        "\n",
        "\n",
        "print(new_db.head())\n"
      ],
      "metadata": {
        "colab": {
          "base_uri": "https://localhost:8080/"
        },
        "id": "BIIyccYabrYV",
        "outputId": "eec84ebb-e881-4b15-8d2d-0d99d09c6b4b"
      },
      "id": "BIIyccYabrYV",
      "execution_count": null,
      "outputs": [
        {
          "output_type": "stream",
          "name": "stdout",
          "text": [
            "   Hour  Temperature(C)  Humidity(%)  Wind speed (m/s)  Visibility (10m)  \\\n",
            "0    22            13.6           38               1.5              2000   \n",
            "1     0           -10.4           49               2.4              2000   \n",
            "2    20            33.5           50               2.1              2000   \n",
            "3     0            21.8           83               1.5              2000   \n",
            "4     6             1.1           78               1.1               538   \n",
            "\n",
            "   Solar Radiation (MJ/m2)  Rainfall(mm)  Snowfall (cm)  Seasons  Holiday  \\\n",
            "0                     0.00           0.0            0.0        0        1   \n",
            "1                     0.00           0.0            0.0        3        1   \n",
            "2                     0.04           0.0            0.0        2        1   \n",
            "3                     0.00           0.0            0.0        0        1   \n",
            "4                     0.00           0.0            0.0        1        1   \n",
            "\n",
            "   Functioning Day  Month  Year  \n",
            "0                1     10  2018  \n",
            "1                1      2  2018  \n",
            "2                1      7  2018  \n",
            "3                1      9  2018  \n",
            "4                1      3  2018  \n"
          ]
        }
      ]
    },
    {
      "cell_type": "code",
      "source": [
        "\n",
        "nb_features = X_train.shape[1]\n",
        "f_scores = np.zeros(nb_features)\n",
        "\n",
        "for idx in range(nb_features):\n",
        "    selector = SelectKBest(f_regression, k=idx+1).fit(X_train, r_train)\n",
        "    x_new=selector.transform(X_train)\n",
        "    s_model = tune_lasso(x_new, r_train)\n",
        "    f_scores[idx] = cross_val_score(s_model, x_new, r_train, cv=5).mean()\n",
        "    print(\"Average accuracy with \", idx+1, \" features: \", f_scores[idx])\n",
        "\n",
        "best_features = np.argmax(f_scores)\n",
        "print(\"Optimal performance of \", f_scores[best_features],\n",
        "      \", for \", best_features+1, \" features\")"
      ],
      "metadata": {
        "id": "brBN0ZdyZsqs",
        "colab": {
          "base_uri": "https://localhost:8080/"
        },
        "outputId": "5c17ee0a-5256-4986-a364-a7672485b571"
      },
      "id": "brBN0ZdyZsqs",
      "execution_count": null,
      "outputs": [
        {
          "output_type": "stream",
          "name": "stdout",
          "text": [
            "Optimal regularisation value:  True 0.1\n",
            "Average accuracy with  1  features:  0.7343277371767372\n",
            "Optimal regularisation value:  True 0.1\n",
            "Average accuracy with  2  features:  0.8128622229420251\n",
            "Optimal regularisation value:  True 0.1\n",
            "Average accuracy with  3  features:  0.8355985520027358\n",
            "Optimal regularisation value:  True 0.1\n",
            "Average accuracy with  4  features:  0.8392185546787274\n",
            "Optimal regularisation value:  True 0.1\n",
            "Average accuracy with  5  features:  0.8578499360601283\n",
            "Optimal regularisation value:  True 0.1\n",
            "Average accuracy with  6  features:  0.8578499360601283\n",
            "Optimal regularisation value:  True 0.1\n",
            "Average accuracy with  7  features:  0.8688659675262489\n",
            "Optimal regularisation value:  True 0.1\n",
            "Average accuracy with  8  features:  0.8688600795808015\n",
            "Optimal regularisation value:  True 0.1\n",
            "Average accuracy with  9  features:  0.8688600795808012\n",
            "Optimal regularisation value:  True 0.1\n",
            "Average accuracy with  10  features:  0.8688601167844162\n",
            "Optimal regularisation value:  True 0.1\n",
            "Average accuracy with  11  features:  0.8688731750728038\n",
            "Optimal regularisation value:  True 0.1\n",
            "Average accuracy with  12  features:  0.8688732216194234\n",
            "Optimal regularisation value:  True 0.1\n",
            "Average accuracy with  13  features:  0.8762566535702044\n",
            "Optimal regularisation value:  True 0.1\n",
            "Average accuracy with  14  features:  0.8762643046651813\n",
            "Optimal performance of  0.8762643046651813 , for  14  features\n"
          ]
        }
      ]
    },
    {
      "cell_type": "code",
      "source": [
        "\n",
        "\n",
        "def tune_rescaled_model(x_data,r_data):\n",
        "    pipe = Pipeline([\n",
        "        ('scale',StandardScaler()),\n",
        "        ('model',MLPRegressor(max_iter = 400))\n",
        "    ])\n",
        "\n",
        "    # Set the parameters by cross-validation\n",
        "    tuned_parameters = [{'model__hidden_layer_sizes': [(10 , 10) , (20,20)] ,'model__solver':[\"lbfgs\" ,\"sgd\" , \"adam\"]}]\n",
        "\n",
        "    CV = GridSearchCV(pipe, tuned_parameters, cv=5)\n",
        "    CV.fit(x_data, r_data)\n",
        "    best_layers = CV.best_params_['model__hidden_layer_sizes']\n",
        "    best_solver = CV.best_params_['model__solver']\n",
        "    print(\"Optimal regularisation value: \",best_layers , best_solver)\n",
        "    optimal_pipe = Pipeline([\n",
        "        ('scale',StandardScaler()),\n",
        "        ('model',MLPRegressor(hidden_layer_sizes = best_layers , max_iter = 400 , solver = best_solver))\n",
        "    ])\n",
        "    \n",
        "    return optimal_pipe\n",
        "\n"
      ],
      "metadata": {
        "id": "QAfawJW09wll"
      },
      "id": "QAfawJW09wll",
      "execution_count": null,
      "outputs": []
    },
    {
      "cell_type": "markdown",
      "source": [
        "#Best features selection"
      ],
      "metadata": {
        "id": "-WqCBuU3CTAv"
      },
      "id": "-WqCBuU3CTAv"
    },
    {
      "cell_type": "markdown",
      "source": [
        "#K-Cross validation with tuned model "
      ],
      "metadata": {
        "id": "GTMvTFQ1Clv6"
      },
      "id": "GTMvTFQ1Clv6"
    },
    {
      "cell_type": "code",
      "source": [
        "\n",
        "with warnings.catch_warnings():\n",
        "    warnings.simplefilter(\"ignore\", category=ConvergenceWarning)\n",
        "    selector = SelectKBest(f_regression, k=best_features+1).fit(X_train, r_train)\n",
        "    select_model = tune_lasso(selector.transform(X_train), r_train)\n",
        "    scoreslin = cross_val_score(select_model, selector.transform(X_train), r_train, cv=5)\n",
        "    print(scoreslin)\n",
        "    print(\"Average CV accuracy of linear model: \",scoreslin.mean(),\", stdev: \",scoreslin.std())\n",
        "\n",
        "    select_model.fit(selector.transform(X_train), r_train)\n",
        "    r_test = select_model.predict(selector.transform(test_data))\n",
        "\n",
        "    train_score_select = select_model.score(selector.transform(X_train), r_train)\n",
        "    test_score_select = select_model.score(selector.transform(test_data), r_test)\n",
        "\n",
        "    print(\"Accuracy of final model: \",train_score_select,\n",
        "          \" (train), \",test_score_select,\" (test)\")"
      ],
      "metadata": {
        "id": "_XsnwjSN_WbW",
        "colab": {
          "base_uri": "https://localhost:8080/",
          "height": 539
        },
        "outputId": "aa34cdcc-5e6c-490a-fd64-c4d9604fe76e"
      },
      "id": "_XsnwjSN_WbW",
      "execution_count": null,
      "outputs": [
        {
          "output_type": "stream",
          "name": "stdout",
          "text": [
            "Optimal regularisation value:  True 0.1\n",
            "[0.85648859 0.90076671 0.86809175 0.89798775 0.85798673]\n",
            "Average CV accuracy of linear model:  0.8762643046651813 , stdev:  0.019309145913252092\n"
          ]
        },
        {
          "output_type": "stream",
          "name": "stderr",
          "text": [
            "/usr/local/lib/python3.8/dist-packages/sklearn/base.py:493: FutureWarning: The feature names should match those that were passed during fit. Starting version 1.2, an error will be raised.\n",
            "Feature names seen at fit time, yet now missing:\n",
            "- Dew point temperature(C)\n",
            "\n",
            "  warnings.warn(message, FutureWarning)\n"
          ]
        },
        {
          "output_type": "error",
          "ename": "ValueError",
          "evalue": "ignored",
          "traceback": [
            "\u001b[0;31m---------------------------------------------------------------------------\u001b[0m",
            "\u001b[0;31mValueError\u001b[0m                                Traceback (most recent call last)",
            "\u001b[0;32m<ipython-input-55-3e5218c914cb>\u001b[0m in \u001b[0;36m<module>\u001b[0;34m\u001b[0m\n\u001b[1;32m      8\u001b[0m \u001b[0;34m\u001b[0m\u001b[0m\n\u001b[1;32m      9\u001b[0m     \u001b[0mselect_model\u001b[0m\u001b[0;34m.\u001b[0m\u001b[0mfit\u001b[0m\u001b[0;34m(\u001b[0m\u001b[0mselector\u001b[0m\u001b[0;34m.\u001b[0m\u001b[0mtransform\u001b[0m\u001b[0;34m(\u001b[0m\u001b[0mX_train\u001b[0m\u001b[0;34m)\u001b[0m\u001b[0;34m,\u001b[0m \u001b[0mr_train\u001b[0m\u001b[0;34m)\u001b[0m\u001b[0;34m\u001b[0m\u001b[0;34m\u001b[0m\u001b[0m\n\u001b[0;32m---> 10\u001b[0;31m     \u001b[0mr_test\u001b[0m \u001b[0;34m=\u001b[0m \u001b[0mselect_model\u001b[0m\u001b[0;34m.\u001b[0m\u001b[0mpredict\u001b[0m\u001b[0;34m(\u001b[0m\u001b[0mselector\u001b[0m\u001b[0;34m.\u001b[0m\u001b[0mtransform\u001b[0m\u001b[0;34m(\u001b[0m\u001b[0mtest_data\u001b[0m\u001b[0;34m)\u001b[0m\u001b[0;34m)\u001b[0m\u001b[0;34m\u001b[0m\u001b[0;34m\u001b[0m\u001b[0m\n\u001b[0m\u001b[1;32m     11\u001b[0m \u001b[0;34m\u001b[0m\u001b[0m\n\u001b[1;32m     12\u001b[0m     \u001b[0mtrain_score_select\u001b[0m \u001b[0;34m=\u001b[0m \u001b[0mselect_model\u001b[0m\u001b[0;34m.\u001b[0m\u001b[0mscore\u001b[0m\u001b[0;34m(\u001b[0m\u001b[0mselector\u001b[0m\u001b[0;34m.\u001b[0m\u001b[0mtransform\u001b[0m\u001b[0;34m(\u001b[0m\u001b[0mX_train\u001b[0m\u001b[0;34m)\u001b[0m\u001b[0;34m,\u001b[0m \u001b[0mr_train\u001b[0m\u001b[0;34m)\u001b[0m\u001b[0;34m\u001b[0m\u001b[0;34m\u001b[0m\u001b[0m\n",
            "\u001b[0;32m/usr/local/lib/python3.8/dist-packages/sklearn/feature_selection/_base.py\u001b[0m in \u001b[0;36mtransform\u001b[0;34m(self, X)\u001b[0m\n\u001b[1;32m     81\u001b[0m         \u001b[0;31m# note: we use _safe_tags instead of _get_tags because this is a\u001b[0m\u001b[0;34m\u001b[0m\u001b[0;34m\u001b[0m\u001b[0;34m\u001b[0m\u001b[0m\n\u001b[1;32m     82\u001b[0m         \u001b[0;31m# public Mixin.\u001b[0m\u001b[0;34m\u001b[0m\u001b[0;34m\u001b[0m\u001b[0;34m\u001b[0m\u001b[0m\n\u001b[0;32m---> 83\u001b[0;31m         X = self._validate_data(\n\u001b[0m\u001b[1;32m     84\u001b[0m             \u001b[0mX\u001b[0m\u001b[0;34m,\u001b[0m\u001b[0;34m\u001b[0m\u001b[0;34m\u001b[0m\u001b[0m\n\u001b[1;32m     85\u001b[0m             \u001b[0mdtype\u001b[0m\u001b[0;34m=\u001b[0m\u001b[0;32mNone\u001b[0m\u001b[0;34m,\u001b[0m\u001b[0;34m\u001b[0m\u001b[0;34m\u001b[0m\u001b[0m\n",
            "\u001b[0;32m/usr/local/lib/python3.8/dist-packages/sklearn/base.py\u001b[0m in \u001b[0;36m_validate_data\u001b[0;34m(self, X, y, reset, validate_separately, **check_params)\u001b[0m\n\u001b[1;32m    583\u001b[0m \u001b[0;34m\u001b[0m\u001b[0m\n\u001b[1;32m    584\u001b[0m         \u001b[0;32mif\u001b[0m \u001b[0;32mnot\u001b[0m \u001b[0mno_val_X\u001b[0m \u001b[0;32mand\u001b[0m \u001b[0mcheck_params\u001b[0m\u001b[0;34m.\u001b[0m\u001b[0mget\u001b[0m\u001b[0;34m(\u001b[0m\u001b[0;34m\"ensure_2d\"\u001b[0m\u001b[0;34m,\u001b[0m \u001b[0;32mTrue\u001b[0m\u001b[0;34m)\u001b[0m\u001b[0;34m:\u001b[0m\u001b[0;34m\u001b[0m\u001b[0;34m\u001b[0m\u001b[0m\n\u001b[0;32m--> 585\u001b[0;31m             \u001b[0mself\u001b[0m\u001b[0;34m.\u001b[0m\u001b[0m_check_n_features\u001b[0m\u001b[0;34m(\u001b[0m\u001b[0mX\u001b[0m\u001b[0;34m,\u001b[0m \u001b[0mreset\u001b[0m\u001b[0;34m=\u001b[0m\u001b[0mreset\u001b[0m\u001b[0;34m)\u001b[0m\u001b[0;34m\u001b[0m\u001b[0;34m\u001b[0m\u001b[0m\n\u001b[0m\u001b[1;32m    586\u001b[0m \u001b[0;34m\u001b[0m\u001b[0m\n\u001b[1;32m    587\u001b[0m         \u001b[0;32mreturn\u001b[0m \u001b[0mout\u001b[0m\u001b[0;34m\u001b[0m\u001b[0;34m\u001b[0m\u001b[0m\n",
            "\u001b[0;32m/usr/local/lib/python3.8/dist-packages/sklearn/base.py\u001b[0m in \u001b[0;36m_check_n_features\u001b[0;34m(self, X, reset)\u001b[0m\n\u001b[1;32m    398\u001b[0m \u001b[0;34m\u001b[0m\u001b[0m\n\u001b[1;32m    399\u001b[0m         \u001b[0;32mif\u001b[0m \u001b[0mn_features\u001b[0m \u001b[0;34m!=\u001b[0m \u001b[0mself\u001b[0m\u001b[0;34m.\u001b[0m\u001b[0mn_features_in_\u001b[0m\u001b[0;34m:\u001b[0m\u001b[0;34m\u001b[0m\u001b[0;34m\u001b[0m\u001b[0m\n\u001b[0;32m--> 400\u001b[0;31m             raise ValueError(\n\u001b[0m\u001b[1;32m    401\u001b[0m                 \u001b[0;34mf\"X has {n_features} features, but {self.__class__.__name__} \"\u001b[0m\u001b[0;34m\u001b[0m\u001b[0;34m\u001b[0m\u001b[0m\n\u001b[1;32m    402\u001b[0m                 \u001b[0;34mf\"is expecting {self.n_features_in_} features as input.\"\u001b[0m\u001b[0;34m\u001b[0m\u001b[0;34m\u001b[0m\u001b[0m\n",
            "\u001b[0;31mValueError\u001b[0m: X has 13 features, but SelectKBest is expecting 14 features as input."
          ]
        }
      ]
    },
    {
      "cell_type": "code",
      "source": [
        "print(r_test)"
      ],
      "metadata": {
        "colab": {
          "base_uri": "https://localhost:8080/"
        },
        "id": "3L94B4Z0VyBU",
        "outputId": "bb4602b0-ce58-49a8-8239-d0ca9a2fc1cc"
      },
      "id": "3L94B4Z0VyBU",
      "execution_count": null,
      "outputs": [
        {
          "output_type": "stream",
          "name": "stdout",
          "text": [
            "[6.37934806 6.42100295 6.04210888 ... 6.98638868 5.22023614 5.9383689 ]\n"
          ]
        }
      ]
    },
    {
      "cell_type": "code",
      "source": [
        "\n",
        "submission = pd.DataFrame(data=r_test, columns=[\"Predicted\"])\n",
        "submission.reset_index(inplace=True)\n",
        "submission = submission.rename(columns = {'index':'Id'})\n",
        "submission[\"Predicted\"] = np.exp(submission[\"Predicted\"])\n",
        "submission.head()\n",
        "\n",
        "submission[\"Predicted\"].mean()\n",
        "\n",
        "\n"
      ],
      "metadata": {
        "id": "cq2BJiY8DlS6",
        "colab": {
          "base_uri": "https://localhost:8080/"
        },
        "outputId": "d89857f9-5415-4deb-a237-1f8d1005283f"
      },
      "id": "cq2BJiY8DlS6",
      "execution_count": null,
      "outputs": [
        {
          "output_type": "execute_result",
          "data": {
            "text/plain": [
              "519.9235136988243"
            ]
          },
          "metadata": {},
          "execution_count": 39
        }
      ]
    },
    {
      "cell_type": "code",
      "source": [
        "def generate_unique_filename(basename, file_ext):\n",
        "    \"\"\"Adds a timestamp to filenames for easier tracking of submissions, models, etc.\"\"\"\n",
        "    timestamp = time.strftime(\"%Y%m%d-%H%M%S\", time.localtime())\n",
        "    return basename + '_' + timestamp + '.' + file_ext\n",
        "submission.to_csv(generate_unique_filename(\"firstSub\", \"csv\"), index=False)"
      ],
      "metadata": {
        "id": "yxhosLayyCQ5"
      },
      "id": "yxhosLayyCQ5",
      "execution_count": null,
      "outputs": []
    }
  ],
  "metadata": {
    "kernelspec": {
      "display_name": "Python 3",
      "language": "python",
      "name": "python3"
    },
    "language_info": {
      "codemirror_mode": {
        "name": "ipython",
        "version": 3
      },
      "file_extension": ".py",
      "mimetype": "text/x-python",
      "name": "python",
      "nbconvert_exporter": "python",
      "pygments_lexer": "ipython3",
      "version": "3.9.12"
    },
    "colab": {
      "provenance": [],
      "include_colab_link": true
    }
  },
  "nbformat": 4,
  "nbformat_minor": 5
}